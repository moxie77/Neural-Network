{
 "cells": [
  {
   "cell_type": "code",
   "execution_count": 1,
   "metadata": {},
   "outputs": [],
   "source": [
    "import keras"
   ]
  },
  {
   "cell_type": "code",
   "execution_count": 2,
   "metadata": {},
   "outputs": [],
   "source": [
    "from keras.datasets import mnist\n",
    "from keras.layers import Dense\n",
    "from keras.models import Sequential\n",
    "from keras.optimizers import SGD\n",
    "from keras.callbacks import LearningRateScheduler\n",
    "from keras.callbacks import ModelCheckpoint\n",
    "import os\n",
    "import matplotlib.pyplot as plt\n",
    "%matplotlib inline"
   ]
  },
  {
   "cell_type": "code",
   "execution_count": 3,
   "metadata": {},
   "outputs": [],
   "source": [
    "(X_train,y_train),(X_test,y_test)= mnist.load_data()"
   ]
  },
  {
   "cell_type": "code",
   "execution_count": 4,
   "metadata": {},
   "outputs": [],
   "source": [
    "fiv = X_test[167]"
   ]
  },
  {
   "cell_type": "code",
   "execution_count": 5,
   "metadata": {},
   "outputs": [
    {
     "data": {
      "text/plain": [
       "(28, 28)"
      ]
     },
     "execution_count": 5,
     "metadata": {},
     "output_type": "execute_result"
    }
   ],
   "source": [
    "fiv.shape"
   ]
  },
  {
   "cell_type": "code",
   "execution_count": 6,
   "metadata": {},
   "outputs": [],
   "source": [
    "X_train = X_train.astype('float32')/255\n",
    "X_test = X_test.astype('float32')/255"
   ]
  },
  {
   "cell_type": "code",
   "execution_count": 7,
   "metadata": {},
   "outputs": [
    {
     "name": "stdout",
     "output_type": "stream",
     "text": [
      "Train Images (60000, 28, 28)\n",
      "Train Labels (60000,)\n",
      "Test Images (10000, 28, 28)\n",
      "Test Labels (10000,)\n"
     ]
    }
   ],
   "source": [
    "print('Train Images',X_train.shape)\n",
    "print('Train Labels',y_train.shape)\n",
    "print('Test Images',X_test.shape)\n",
    "print('Test Labels',y_test.shape)"
   ]
  },
  {
   "cell_type": "code",
   "execution_count": 8,
   "metadata": {},
   "outputs": [],
   "source": [
    "X_train = X_train.reshape(60000,784)\n",
    "X_test=X_test.reshape(10000,784)"
   ]
  },
  {
   "cell_type": "code",
   "execution_count": 9,
   "metadata": {},
   "outputs": [],
   "source": [
    "y_train = keras.utils.to_categorical(y_train,10)\n",
    "y_test = keras.utils.to_categorical(y_test,10)"
   ]
  },
  {
   "cell_type": "code",
   "execution_count": 10,
   "metadata": {},
   "outputs": [],
   "source": [
    "model = Sequential()\n",
    "model.add(Dense(units=128,activation='relu',input_shape=(784,)))\n",
    "model.add(Dense(units=128,activation='relu'))\n",
    "model.add(Dense(units=128,activation='relu'))\n",
    "model.add(Dense(units=10,activation='softmax'))\n",
    "\n"
   ]
  },
  {
   "cell_type": "code",
   "execution_count": 12,
   "metadata": {},
   "outputs": [
    {
     "name": "stdout",
     "output_type": "stream",
     "text": [
      "Model: \"sequential\"\n",
      "_________________________________________________________________\n",
      "Layer (type)                 Output Shape              Param #   \n",
      "=================================================================\n",
      "dense (Dense)                (None, 128)               100480    \n",
      "_________________________________________________________________\n",
      "dense_1 (Dense)              (None, 128)               16512     \n",
      "_________________________________________________________________\n",
      "dense_2 (Dense)              (None, 128)               16512     \n",
      "_________________________________________________________________\n",
      "dense_3 (Dense)              (None, 10)                1290      \n",
      "=================================================================\n",
      "Total params: 134,794\n",
      "Trainable params: 134,794\n",
      "Non-trainable params: 0\n",
      "_________________________________________________________________\n"
     ]
    }
   ],
   "source": [
    "model.summary()"
   ]
  },
  {
   "cell_type": "code",
   "execution_count": 13,
   "metadata": {},
   "outputs": [],
   "source": [
    "def lr_schedule(epoch):\n",
    "    lr = 0.1\n",
    "    if epoch > 15:\n",
    "        lr = lr / 100\n",
    "    elif epoch > 10:\n",
    "        lr = lr / 10\n",
    "    elif epoch > 5:\n",
    "        lr = lr / 5\n",
    "    print('Learning rate: ',lr)\n",
    "    return lr"
   ]
  },
  {
   "cell_type": "code",
   "execution_count": 14,
   "metadata": {},
   "outputs": [],
   "source": [
    "lr_scheduler = LearningRateScheduler(lr_schedule)"
   ]
  },
  {
   "cell_type": "code",
   "execution_count": 15,
   "metadata": {},
   "outputs": [],
   "source": [
    "save_dir = os.path.join(os.getcwd(),'mnistdatasavemodel')"
   ]
  },
  {
   "cell_type": "code",
   "execution_count": 16,
   "metadata": {},
   "outputs": [],
   "source": [
    "model_name = 'mnistmodel.{epoch:03d}.h5'"
   ]
  },
  {
   "cell_type": "code",
   "execution_count": 17,
   "metadata": {},
   "outputs": [],
   "source": [
    "if not os.path.isdir(save_dir):\n",
    "    os.makedirs(save_dir)"
   ]
  },
  {
   "cell_type": "code",
   "execution_count": 18,
   "metadata": {},
   "outputs": [],
   "source": [
    "modelpath = os.path.join(save_dir,model_name)"
   ]
  },
  {
   "cell_type": "code",
   "execution_count": 22,
   "metadata": {},
   "outputs": [
    {
     "name": "stdout",
     "output_type": "stream",
     "text": [
      "WARNING:tensorflow:`period` argument is deprecated. Please use `save_freq` to specify the frequency in number of batches seen.\n"
     ]
    }
   ],
   "source": [
    "checkpoint = ModelCheckpoint(filepath = modelpath,\n",
    "                             monitor ='val_acc',\n",
    "                             verbose = 1,\n",
    "                             period = 1)"
   ]
  },
  {
   "cell_type": "code",
   "execution_count": 23,
   "metadata": {},
   "outputs": [
    {
     "name": "stdout",
     "output_type": "stream",
     "text": [
      "Learning rate:  0.1\n"
     ]
    }
   ],
   "source": [
    "model.compile(optimizer= SGD(lr_schedule(0)),loss='categorical_crossentropy',metrics=['accuracy'])"
   ]
  },
  {
   "cell_type": "code",
   "execution_count": 24,
   "metadata": {},
   "outputs": [
    {
     "name": "stdout",
     "output_type": "stream",
     "text": [
      "Learning rate:  0.1\n",
      "Epoch 1/20\n",
      "1869/1875 [============================>.] - ETA: 0s - loss: 0.2822 - accuracy: 0.9143\n",
      "Epoch 00001: saving model to /home/mayowa/Major_Rain/personal-work/mnistdatasavemodel/mnistmodel.001.h5\n",
      "1875/1875 [==============================] - 6s 3ms/step - loss: 0.2818 - accuracy: 0.9144\n",
      "Learning rate:  0.1\n",
      "Epoch 2/20\n",
      "1873/1875 [============================>.] - ETA: 0s - loss: 0.1144 - accuracy: 0.9649\n",
      "Epoch 00002: saving model to /home/mayowa/Major_Rain/personal-work/mnistdatasavemodel/mnistmodel.002.h5\n",
      "1875/1875 [==============================] - 6s 3ms/step - loss: 0.1143 - accuracy: 0.9649\n",
      "Learning rate:  0.1\n",
      "Epoch 3/20\n",
      "1871/1875 [============================>.] - ETA: 0s - loss: 0.0816 - accuracy: 0.9750\n",
      "Epoch 00003: saving model to /home/mayowa/Major_Rain/personal-work/mnistdatasavemodel/mnistmodel.003.h5\n",
      "1875/1875 [==============================] - 6s 3ms/step - loss: 0.0815 - accuracy: 0.9750\n",
      "Learning rate:  0.1\n",
      "Epoch 4/20\n",
      "1867/1875 [============================>.] - ETA: 0s - loss: 0.0624 - accuracy: 0.9809\n",
      "Epoch 00004: saving model to /home/mayowa/Major_Rain/personal-work/mnistdatasavemodel/mnistmodel.004.h5\n",
      "1875/1875 [==============================] - 6s 3ms/step - loss: 0.0623 - accuracy: 0.9809\n",
      "Learning rate:  0.1\n",
      "Epoch 5/20\n",
      "1865/1875 [============================>.] - ETA: 0s - loss: 0.0508 - accuracy: 0.9843\n",
      "Epoch 00005: saving model to /home/mayowa/Major_Rain/personal-work/mnistdatasavemodel/mnistmodel.005.h5\n",
      "1875/1875 [==============================] - 6s 3ms/step - loss: 0.0509 - accuracy: 0.9843\n",
      "Learning rate:  0.1\n",
      "Epoch 6/20\n",
      "1867/1875 [============================>.] - ETA: 0s - loss: 0.0400 - accuracy: 0.9873\n",
      "Epoch 00006: saving model to /home/mayowa/Major_Rain/personal-work/mnistdatasavemodel/mnistmodel.006.h5\n",
      "1875/1875 [==============================] - 6s 3ms/step - loss: 0.0402 - accuracy: 0.9872\n",
      "Learning rate:  0.02\n",
      "Epoch 7/20\n",
      "1873/1875 [============================>.] - ETA: 0s - loss: 0.0177 - accuracy: 0.9950\n",
      "Epoch 00007: saving model to /home/mayowa/Major_Rain/personal-work/mnistdatasavemodel/mnistmodel.007.h5\n",
      "1875/1875 [==============================] - 6s 3ms/step - loss: 0.0177 - accuracy: 0.9950\n",
      "Learning rate:  0.02\n",
      "Epoch 8/20\n",
      "1870/1875 [============================>.] - ETA: 0s - loss: 0.0127 - accuracy: 0.9970\n",
      "Epoch 00008: saving model to /home/mayowa/Major_Rain/personal-work/mnistdatasavemodel/mnistmodel.008.h5\n",
      "1875/1875 [==============================] - 6s 3ms/step - loss: 0.0127 - accuracy: 0.9969\n",
      "Learning rate:  0.02\n",
      "Epoch 9/20\n",
      "1861/1875 [============================>.] - ETA: 0s - loss: 0.0107 - accuracy: 0.9976\n",
      "Epoch 00009: saving model to /home/mayowa/Major_Rain/personal-work/mnistdatasavemodel/mnistmodel.009.h5\n",
      "1875/1875 [==============================] - 6s 3ms/step - loss: 0.0106 - accuracy: 0.9977\n",
      "Learning rate:  0.02\n",
      "Epoch 10/20\n",
      "1875/1875 [==============================] - ETA: 0s - loss: 0.0093 - accuracy: 0.9981\n",
      "Epoch 00010: saving model to /home/mayowa/Major_Rain/personal-work/mnistdatasavemodel/mnistmodel.010.h5\n",
      "1875/1875 [==============================] - 6s 3ms/step - loss: 0.0093 - accuracy: 0.9981\n",
      "Learning rate:  0.02\n",
      "Epoch 11/20\n",
      "1863/1875 [============================>.] - ETA: 0s - loss: 0.0081 - accuracy: 0.9984\n",
      "Epoch 00011: saving model to /home/mayowa/Major_Rain/personal-work/mnistdatasavemodel/mnistmodel.011.h5\n",
      "1875/1875 [==============================] - 6s 3ms/step - loss: 0.0081 - accuracy: 0.9984\n",
      "Learning rate:  0.01\n",
      "Epoch 12/20\n",
      "1869/1875 [============================>.] - ETA: 0s - loss: 0.0068 - accuracy: 0.9990\n",
      "Epoch 00012: saving model to /home/mayowa/Major_Rain/personal-work/mnistdatasavemodel/mnistmodel.012.h5\n",
      "1875/1875 [==============================] - 6s 3ms/step - loss: 0.0068 - accuracy: 0.9990\n",
      "Learning rate:  0.01\n",
      "Epoch 13/20\n",
      "1868/1875 [============================>.] - ETA: 0s - loss: 0.0064 - accuracy: 0.9991\n",
      "Epoch 00013: saving model to /home/mayowa/Major_Rain/personal-work/mnistdatasavemodel/mnistmodel.013.h5\n",
      "1875/1875 [==============================] - 6s 3ms/step - loss: 0.0064 - accuracy: 0.9991\n",
      "Learning rate:  0.01\n",
      "Epoch 14/20\n",
      "1875/1875 [==============================] - ETA: 0s - loss: 0.0060 - accuracy: 0.9992\n",
      "Epoch 00014: saving model to /home/mayowa/Major_Rain/personal-work/mnistdatasavemodel/mnistmodel.014.h5\n",
      "1875/1875 [==============================] - 6s 3ms/step - loss: 0.0060 - accuracy: 0.9992\n",
      "Learning rate:  0.01\n",
      "Epoch 15/20\n",
      "1867/1875 [============================>.] - ETA: 0s - loss: 0.0057 - accuracy: 0.9992\n",
      "Epoch 00015: saving model to /home/mayowa/Major_Rain/personal-work/mnistdatasavemodel/mnistmodel.015.h5\n",
      "1875/1875 [==============================] - 6s 3ms/step - loss: 0.0057 - accuracy: 0.9992\n",
      "Learning rate:  0.01\n",
      "Epoch 16/20\n",
      "1874/1875 [============================>.] - ETA: 0s - loss: 0.0054 - accuracy: 0.9992\n",
      "Epoch 00016: saving model to /home/mayowa/Major_Rain/personal-work/mnistdatasavemodel/mnistmodel.016.h5\n",
      "1875/1875 [==============================] - 6s 3ms/step - loss: 0.0054 - accuracy: 0.9992\n",
      "Learning rate:  0.001\n",
      "Epoch 17/20\n",
      "1865/1875 [============================>.] - ETA: 0s - loss: 0.0049 - accuracy: 0.9994\n",
      "Epoch 00017: saving model to /home/mayowa/Major_Rain/personal-work/mnistdatasavemodel/mnistmodel.017.h5\n",
      "1875/1875 [==============================] - 6s 3ms/step - loss: 0.0049 - accuracy: 0.9995\n",
      "Learning rate:  0.001\n",
      "Epoch 18/20\n",
      "1867/1875 [============================>.] - ETA: 0s - loss: 0.0049 - accuracy: 0.9995\n",
      "Epoch 00018: saving model to /home/mayowa/Major_Rain/personal-work/mnistdatasavemodel/mnistmodel.018.h5\n",
      "1875/1875 [==============================] - 6s 3ms/step - loss: 0.0049 - accuracy: 0.9995\n",
      "Learning rate:  0.001\n",
      "Epoch 19/20\n",
      "1865/1875 [============================>.] - ETA: 0s - loss: 0.0048 - accuracy: 0.9995\n",
      "Epoch 00019: saving model to /home/mayowa/Major_Rain/personal-work/mnistdatasavemodel/mnistmodel.019.h5\n",
      "1875/1875 [==============================] - 6s 3ms/step - loss: 0.0048 - accuracy: 0.9995\n",
      "Learning rate:  0.001\n",
      "Epoch 20/20\n",
      "1869/1875 [============================>.] - ETA: 0s - loss: 0.0048 - accuracy: 0.9995\n",
      "Epoch 00020: saving model to /home/mayowa/Major_Rain/personal-work/mnistdatasavemodel/mnistmodel.020.h5\n",
      "1875/1875 [==============================] - 6s 3ms/step - loss: 0.0048 - accuracy: 0.9995\n"
     ]
    },
    {
     "data": {
      "text/plain": [
       "<tensorflow.python.keras.callbacks.History at 0x7f70d8747400>"
      ]
     },
     "execution_count": 24,
     "metadata": {},
     "output_type": "execute_result"
    }
   ],
   "source": [
    "model.fit(X_train,y_train,batch_size=32,epochs=20,shuffle=True,verbose=1,callbacks=[checkpoint,lr_scheduler])"
   ]
  },
  {
   "cell_type": "code",
   "execution_count": 25,
   "metadata": {},
   "outputs": [
    {
     "name": "stdout",
     "output_type": "stream",
     "text": [
      "313/313 [==============================] - 1s 2ms/step - loss: 0.0622 - accuracy: 0.9827\n",
      "Accuracy : 0.982699990272522\n"
     ]
    }
   ],
   "source": [
    "accuracy = model.evaluate(x=X_test,y=y_test,batch_size=32)\n",
    "print(\"Accuracy :\",accuracy[1])"
   ]
  },
  {
   "cell_type": "code",
   "execution_count": 13,
   "metadata": {},
   "outputs": [],
   "source": [
    "X_test = X_test.astype('float32')/255"
   ]
  },
  {
   "cell_type": "code",
   "execution_count": 17,
   "metadata": {},
   "outputs": [],
   "source": [
    "img = X_test[167]"
   ]
  },
  {
   "cell_type": "code",
   "execution_count": 18,
   "metadata": {},
   "outputs": [
    {
     "data": {
      "text/plain": [
       "(784,)"
      ]
     },
     "execution_count": 18,
     "metadata": {},
     "output_type": "execute_result"
    }
   ],
   "source": [
    "img.shape"
   ]
  },
  {
   "cell_type": "code",
   "execution_count": 19,
   "metadata": {
    "collapsed": true
   },
   "outputs": [
    {
     "data": {
      "text/plain": [
       "array([[0.        , 0.        , 0.        , 0.        , 0.        ,\n",
       "        0.        , 0.        , 0.        , 0.        , 0.        ,\n",
       "        0.        , 0.        , 0.        , 0.        , 0.        ,\n",
       "        0.        , 0.        , 0.        , 0.        , 0.        ,\n",
       "        0.        , 0.        , 0.        , 0.        , 0.        ,\n",
       "        0.        , 0.        , 0.        ],\n",
       "       [0.        , 0.        , 0.        , 0.        , 0.        ,\n",
       "        0.        , 0.        , 0.        , 0.        , 0.        ,\n",
       "        0.        , 0.        , 0.        , 0.        , 0.        ,\n",
       "        0.        , 0.        , 0.        , 0.        , 0.        ,\n",
       "        0.        , 0.        , 0.        , 0.        , 0.        ,\n",
       "        0.        , 0.        , 0.        ],\n",
       "       [0.        , 0.        , 0.        , 0.        , 0.        ,\n",
       "        0.        , 0.        , 0.        , 0.        , 0.        ,\n",
       "        0.        , 0.        , 0.        , 0.        , 0.        ,\n",
       "        0.        , 0.        , 0.        , 0.        , 0.        ,\n",
       "        0.        , 0.        , 0.        , 0.        , 0.        ,\n",
       "        0.        , 0.        , 0.        ],\n",
       "       [0.        , 0.        , 0.        , 0.        , 0.        ,\n",
       "        0.        , 0.        , 0.        , 0.        , 0.        ,\n",
       "        0.        , 0.        , 0.        , 0.        , 0.        ,\n",
       "        0.        , 0.        , 0.        , 0.        , 0.        ,\n",
       "        0.        , 0.        , 0.        , 0.        , 0.        ,\n",
       "        0.        , 0.        , 0.        ],\n",
       "       [0.        , 0.        , 0.        , 0.        , 0.        ,\n",
       "        0.        , 0.        , 0.        , 0.        , 0.        ,\n",
       "        0.        , 0.        , 0.        , 0.        , 0.        ,\n",
       "        0.        , 0.        , 0.        , 0.        , 0.        ,\n",
       "        0.        , 0.        , 0.        , 0.        , 0.        ,\n",
       "        0.        , 0.        , 0.        ],\n",
       "       [0.        , 0.        , 0.        , 0.        , 0.        ,\n",
       "        0.        , 0.        , 0.        , 0.        , 0.        ,\n",
       "        0.        , 0.        , 0.        , 0.        , 0.        ,\n",
       "        0.        , 0.        , 0.        , 0.        , 0.        ,\n",
       "        0.        , 0.        , 0.        , 0.        , 0.        ,\n",
       "        0.        , 0.        , 0.        ],\n",
       "       [0.        , 0.        , 0.        , 0.        , 0.        ,\n",
       "        0.        , 0.        , 0.        , 0.        , 0.        ,\n",
       "        0.        , 0.        , 0.        , 0.        , 0.        ,\n",
       "        0.        , 0.        , 0.        , 0.        , 0.        ,\n",
       "        0.        , 0.        , 0.        , 0.        , 0.        ,\n",
       "        0.        , 0.        , 0.        ],\n",
       "       [0.        , 0.        , 0.        , 0.        , 0.        ,\n",
       "        0.        , 0.        , 0.        , 0.        , 0.        ,\n",
       "        0.        , 0.        , 0.        , 0.        , 0.        ,\n",
       "        0.        , 0.        , 0.        , 0.        , 0.        ,\n",
       "        0.        , 0.        , 0.        , 0.        , 0.        ,\n",
       "        0.        , 0.        , 0.        ],\n",
       "       [0.        , 0.        , 0.        , 0.        , 0.        ,\n",
       "        0.        , 0.        , 0.        , 0.        , 0.        ,\n",
       "        0.        , 0.        , 0.        , 0.        , 0.        ,\n",
       "        0.04705882, 0.24313726, 0.4745098 , 0.4745098 , 0.31764707,\n",
       "        0.1254902 , 0.08235294, 0.03921569, 0.        , 0.        ,\n",
       "        0.        , 0.        , 0.        ],\n",
       "       [0.        , 0.        , 0.        , 0.        , 0.        ,\n",
       "        0.        , 0.        , 0.        , 0.        , 0.        ,\n",
       "        0.        , 0.        , 0.        , 0.        , 0.11372549,\n",
       "        0.5529412 , 0.99215686, 0.99607843, 0.74509805, 0.69803923,\n",
       "        0.9607843 , 0.99215686, 0.83137256, 0.54509807, 0.12941177,\n",
       "        0.        , 0.        , 0.        ],\n",
       "       [0.        , 0.        , 0.        , 0.        , 0.        ,\n",
       "        0.        , 0.        , 0.        , 0.        , 0.        ,\n",
       "        0.        , 0.        , 0.        , 0.06666667, 0.6       ,\n",
       "        0.99215686, 0.7294118 , 0.09411765, 0.01568628, 0.        ,\n",
       "        0.2784314 , 0.60784316, 0.89411765, 0.99607843, 0.9411765 ,\n",
       "        0.4392157 , 0.        , 0.        ],\n",
       "       [0.        , 0.        , 0.        , 0.        , 0.        ,\n",
       "        0.        , 0.        , 0.        , 0.        , 0.        ,\n",
       "        0.        , 0.        , 0.11372549, 0.8509804 , 0.99607843,\n",
       "        0.8509804 , 0.05490196, 0.        , 0.        , 0.        ,\n",
       "        0.        , 0.        , 0.03921569, 0.27058825, 0.64705884,\n",
       "        0.65882355, 0.        , 0.        ],\n",
       "       [0.        , 0.        , 0.        , 0.        , 0.        ,\n",
       "        0.        , 0.        , 0.        , 0.        , 0.        ,\n",
       "        0.10980392, 0.5568628 , 0.95686275, 0.99215686, 0.99607843,\n",
       "        0.6745098 , 0.09411765, 0.        , 0.        , 0.        ,\n",
       "        0.        , 0.        , 0.        , 0.        , 0.        ,\n",
       "        0.        , 0.        , 0.        ],\n",
       "       [0.        , 0.        , 0.        , 0.        , 0.        ,\n",
       "        0.        , 0.        , 0.        , 0.24313726, 0.5568628 ,\n",
       "        0.92156863, 0.99607843, 0.99607843, 0.99607843, 0.99607843,\n",
       "        0.99607843, 0.8980392 , 0.7647059 , 0.4117647 , 0.        ,\n",
       "        0.        , 0.        , 0.        , 0.        , 0.        ,\n",
       "        0.        , 0.        , 0.        ],\n",
       "       [0.        , 0.        , 0.        , 0.        , 0.        ,\n",
       "        0.        , 0.        , 0.5019608 , 0.9882353 , 0.99607843,\n",
       "        0.99215686, 0.8156863 , 0.5137255 , 0.40784314, 0.56078434,\n",
       "        0.4862745 , 0.79607844, 0.84313726, 0.99215686, 0.60784316,\n",
       "        0.02352941, 0.        , 0.        , 0.        , 0.        ,\n",
       "        0.        , 0.        , 0.        ],\n",
       "       [0.        , 0.        , 0.        , 0.        , 0.        ,\n",
       "        0.        , 0.        , 0.8156863 , 0.9882353 , 0.75686276,\n",
       "        0.19215687, 0.01960784, 0.        , 0.        , 0.        ,\n",
       "        0.        , 0.        , 0.05098039, 0.8745098 , 0.88235295,\n",
       "        0.07058824, 0.        , 0.        , 0.        , 0.        ,\n",
       "        0.        , 0.        , 0.        ],\n",
       "       [0.        , 0.        , 0.        , 0.        , 0.        ,\n",
       "        0.        , 0.        , 0.16078432, 0.27450982, 0.        ,\n",
       "        0.        , 0.        , 0.        , 0.        , 0.        ,\n",
       "        0.        , 0.10588235, 0.7137255 , 0.99607843, 0.47843137,\n",
       "        0.        , 0.        , 0.        , 0.        , 0.        ,\n",
       "        0.        , 0.        , 0.        ],\n",
       "       [0.        , 0.        , 0.        , 0.        , 0.        ,\n",
       "        0.        , 0.        , 0.        , 0.        , 0.        ,\n",
       "        0.        , 0.        , 0.        , 0.        , 0.02352941,\n",
       "        0.36862746, 0.90588236, 0.99607843, 0.76862746, 0.18039216,\n",
       "        0.        , 0.        , 0.        , 0.        , 0.        ,\n",
       "        0.        , 0.        , 0.        ],\n",
       "       [0.        , 0.        , 0.        , 0.        , 0.        ,\n",
       "        0.        , 0.        , 0.        , 0.        , 0.        ,\n",
       "        0.        , 0.2509804 , 0.27450982, 0.49411765, 0.7882353 ,\n",
       "        0.99215686, 0.9882353 , 0.627451  , 0.05098039, 0.        ,\n",
       "        0.        , 0.        , 0.        , 0.        , 0.        ,\n",
       "        0.        , 0.        , 0.        ],\n",
       "       [0.        , 0.        , 0.        , 0.        , 0.        ,\n",
       "        0.        , 0.34117648, 0.49411765, 0.49411765, 0.5176471 ,\n",
       "        0.88235295, 0.9843137 , 0.99607843, 0.99607843, 0.91764706,\n",
       "        0.5882353 , 0.11372549, 0.        , 0.        , 0.        ,\n",
       "        0.        , 0.        , 0.        , 0.        , 0.        ,\n",
       "        0.        , 0.        , 0.        ],\n",
       "       [0.        , 0.        , 0.        , 0.        , 0.        ,\n",
       "        0.        , 1.        , 0.99215686, 0.99215686, 0.72156864,\n",
       "        0.6784314 , 0.6784314 , 0.6784314 , 0.46666667, 0.07058824,\n",
       "        0.        , 0.        , 0.        , 0.        , 0.        ,\n",
       "        0.        , 0.        , 0.        , 0.        , 0.        ,\n",
       "        0.        , 0.        , 0.        ],\n",
       "       [0.        , 0.        , 0.        , 0.        , 0.        ,\n",
       "        0.        , 0.23137255, 0.07843138, 0.07843138, 0.01176471,\n",
       "        0.        , 0.        , 0.        , 0.        , 0.        ,\n",
       "        0.        , 0.        , 0.        , 0.        , 0.        ,\n",
       "        0.        , 0.        , 0.        , 0.        , 0.        ,\n",
       "        0.        , 0.        , 0.        ],\n",
       "       [0.        , 0.        , 0.        , 0.        , 0.        ,\n",
       "        0.        , 0.        , 0.        , 0.        , 0.        ,\n",
       "        0.        , 0.        , 0.        , 0.        , 0.        ,\n",
       "        0.        , 0.        , 0.        , 0.        , 0.        ,\n",
       "        0.        , 0.        , 0.        , 0.        , 0.        ,\n",
       "        0.        , 0.        , 0.        ],\n",
       "       [0.        , 0.        , 0.        , 0.        , 0.        ,\n",
       "        0.        , 0.        , 0.        , 0.        , 0.        ,\n",
       "        0.        , 0.        , 0.        , 0.        , 0.        ,\n",
       "        0.        , 0.        , 0.        , 0.        , 0.        ,\n",
       "        0.        , 0.        , 0.        , 0.        , 0.        ,\n",
       "        0.        , 0.        , 0.        ],\n",
       "       [0.        , 0.        , 0.        , 0.        , 0.        ,\n",
       "        0.        , 0.        , 0.        , 0.        , 0.        ,\n",
       "        0.        , 0.        , 0.        , 0.        , 0.        ,\n",
       "        0.        , 0.        , 0.        , 0.        , 0.        ,\n",
       "        0.        , 0.        , 0.        , 0.        , 0.        ,\n",
       "        0.        , 0.        , 0.        ],\n",
       "       [0.        , 0.        , 0.        , 0.        , 0.        ,\n",
       "        0.        , 0.        , 0.        , 0.        , 0.        ,\n",
       "        0.        , 0.        , 0.        , 0.        , 0.        ,\n",
       "        0.        , 0.        , 0.        , 0.        , 0.        ,\n",
       "        0.        , 0.        , 0.        , 0.        , 0.        ,\n",
       "        0.        , 0.        , 0.        ],\n",
       "       [0.        , 0.        , 0.        , 0.        , 0.        ,\n",
       "        0.        , 0.        , 0.        , 0.        , 0.        ,\n",
       "        0.        , 0.        , 0.        , 0.        , 0.        ,\n",
       "        0.        , 0.        , 0.        , 0.        , 0.        ,\n",
       "        0.        , 0.        , 0.        , 0.        , 0.        ,\n",
       "        0.        , 0.        , 0.        ],\n",
       "       [0.        , 0.        , 0.        , 0.        , 0.        ,\n",
       "        0.        , 0.        , 0.        , 0.        , 0.        ,\n",
       "        0.        , 0.        , 0.        , 0.        , 0.        ,\n",
       "        0.        , 0.        , 0.        , 0.        , 0.        ,\n",
       "        0.        , 0.        , 0.        , 0.        , 0.        ,\n",
       "        0.        , 0.        , 0.        ]], dtype=float32)"
      ]
     },
     "execution_count": 19,
     "metadata": {},
     "output_type": "execute_result"
    }
   ],
   "source": [
    "img.reshape((28,28))"
   ]
  },
  {
   "cell_type": "code",
   "execution_count": 20,
   "metadata": {},
   "outputs": [
    {
     "data": {
      "text/plain": [
       "(784,)"
      ]
     },
     "execution_count": 20,
     "metadata": {},
     "output_type": "execute_result"
    }
   ],
   "source": [
    "img.shape"
   ]
  },
  {
   "cell_type": "code",
   "execution_count": 21,
   "metadata": {},
   "outputs": [],
   "source": [
    "image_test = img.reshape((1,784))"
   ]
  },
  {
   "cell_type": "code",
   "execution_count": 22,
   "metadata": {},
   "outputs": [
    {
     "name": "stdout",
     "output_type": "stream",
     "text": [
      "WARNING:tensorflow:From <ipython-input-22-98bbb06dd6df>:1: Sequential.predict_classes (from tensorflow.python.keras.engine.sequential) is deprecated and will be removed after 2021-01-01.\n",
      "Instructions for updating:\n",
      "Please use instead:* `np.argmax(model.predict(x), axis=-1)`,   if your model does multi-class classification   (e.g. if it uses a `softmax` last-layer activation).* `(model.predict(x) > 0.5).astype(\"int32\")`,   if your model does binary classification   (e.g. if it uses a `sigmoid` last-layer activation).\n",
      "class:  5\n"
     ]
    }
   ],
   "source": [
    "img_class = model.predict_classes(image_test)\n",
    "classname = img_class[0]\n",
    "print(\"class: \",classname)"
   ]
  },
  {
   "cell_type": "code",
   "execution_count": 23,
   "metadata": {},
   "outputs": [],
   "source": [
    "import matplotlib.pyplot as plt\n",
    "%matplotlib inline"
   ]
  },
  {
   "cell_type": "code",
   "execution_count": 24,
   "metadata": {},
   "outputs": [
    {
     "data": {
      "image/png": "[encoded data removed]",
      "text/plain": [
       "<Figure size 432x288 with 1 Axes>"
      ]
     },
     "metadata": {
      "needs_background": "light"
     },
     "output_type": "display_data"
    }
   ],
   "source": [
    "plt.title(\"Predicting Result: %s\" %(classname))\n",
    "plt.imshow(fiv)\n",
    "plt.show()"
   ]
  },
  {
   "cell_type": "code",
   "execution_count": null,
   "metadata": {},
   "outputs": [],
   "source": []
  }
 ],
 "metadata": {
  "kernelspec": {
   "display_name": "Python 3",
   "language": "python",
   "name": "python3"
  },
  "language_info": {
   "codemirror_mode": {
    "name": "ipython",
    "version": 3
   },
   "file_extension": ".py",
   "mimetype": "text/x-python",
   "name": "python",
   "nbconvert_exporter": "python",
   "pygments_lexer": "ipython3",
   "version": "3.8.3"
  }
 },
 "nbformat": 4,
 "nbformat_minor": 4
}
